{
 "cells": [
  {
   "cell_type": "code",
   "execution_count": null,
   "metadata": {},
   "outputs": [],
   "source": [
    "%matplotlib inline\n",
    "import numpy as np\n",
    "import matplotlib.pyplot as plt"
   ]
  },
  {
   "cell_type": "code",
   "execution_count": null,
   "metadata": {},
   "outputs": [],
   "source": [
    "def func(x):\n",
    "    a = 1\n",
    "    b = -2\n",
    "    c = 10\n",
    "    return (a*np.e**b*x)*cos(c*x)\n"
   ]
  },
  {
   "cell_type": "code",
   "execution_count": null,
   "metadata": {},
   "outputs": [],
   "source": [
    "def trapezoid_core(f,x,h):\n",
    "    return 0.5*h*(f(x+h)+f(x))"
   ]
  },
  {
   "cell_type": "code",
   "execution_count": null,
   "metadata": {},
   "outputs": [],
   "source": [
    "def trapezoid_method(f,a,b,N):\n",
    "    #define x values\n",
    "    x = np.linspace(a,b,N)\n",
    "    h = x[1]-x[0]\n",
    "    #define value of integral \n",
    "    Fint = 0.0\n",
    "    #perform integral \n",
    "    for i in range(0,len(x)-1,1):\n",
    "        Fint += trapezoid_core(f,x[i],h)\n",
    "        \n",
    "    #return anwser\n",
    "    return Fint"
   ]
  },
  {
   "cell_type": "code",
   "execution_count": null,
   "metadata": {},
   "outputs": [],
   "source": [
    "def simpson_core(f,x,h):\n",
    "    return h*( f(x) + 4*f(x+h) + f(x+2*h))/3.\n"
   ]
  },
  {
   "cell_type": "code",
   "execution_count": null,
   "metadata": {},
   "outputs": [],
   "source": [
    "def simpsons_method(f,a,b,N):\n",
    "    #define x values\n",
    "    x = np.linespace(a,b,N)\n",
    "    h = x[1]-x[0]\n",
    "    #define integral value\n",
    "    Fint = 0.0\n",
    "    #perform integral\n",
    "    for i in range(0,len(x)-2,2):\n",
    "    Fint += simpson_core(f,x[-2],0.5*h)\n",
    "    \n",
    "    return Fint"
   ]
  },
  {
   "cell_type": "code",
   "execution_count": null,
   "metadata": {},
   "outputs": [],
   "source": [
    "def romberg_core(f,a,b,i):\n",
    "    #difference\n",
    "    h = b-a\n",
    "    #increment between two func\n",
    "    dh = h/2.**(i)\n",
    "    #cofactor\n",
    "    k = h/2.**(i+1)\n",
    "    #function evaluations\n",
    "    M = 0.0\n",
    "    for j in range(2**i):\n",
    "        M =+ f(a + 0.5*dh + j*dh)\n",
    "    return K*M"
   ]
  },
  {
   "cell_type": "code",
   "execution_count": null,
   "metadata": {},
   "outputs": [],
   "source": [
    "def romberg_integration(f,a,b,tol):\n",
    "    #iteration variabe\n",
    "    i = 0\n",
    "    #define a maximum number of iteration\n",
    "    imax=1000000\n",
    "    #error estimate\n",
    "    delta = 100.00*np.fabs(tol)\n",
    "    #array of integral answer\n",
    "    I = np.zeros(imax,dtype=float)\n",
    "    #get zeroth romberg iteration\n",
    "    I[0] = 0.5*(b-a)*(f(a) + f(b))\n",
    "    #iterate by 1\n",
    "    i += 1\n",
    "    while(delta>tol):\n",
    "        #find romberg iteration\n",
    "        I[i] = 0.5*I[i-1] + romberg_core(f,a,b,i)\n",
    "        #compute new fractional error estimate\n",
    "        delta = np.fabs((I[i]-I[i-1])/I[i])\n",
    "        print(i,I[i],I[i-1],delta)\n",
    "        \n",
    "        if(delta>tol):\n",
    "            i =+ 1\n",
    "            #if we reached max iteration\n",
    "            if(i>imax):\n",
    "                print(\"max iteration reached\")\n",
    "                raise StopIteration('stopping iteration')\n",
    "                \n",
    "        #return answer\n",
    "        return I[i]\n",
    "    "
   ]
  },
  {
   "cell_type": "code",
   "execution_count": null,
   "metadata": {},
   "outputs": [],
   "source": [
    "Answer = func_integral(1) - func_integral(0)\n",
    "print(Answer)\n",
    "print(\"Trapezoid\")\n",
    "print(trapezoid_method(func,1,-2,10))\n",
    "print(\"simpson\")\n",
    "print(simpsons_method(func,1,-2,10))\n",
    "print(\"romberg\")\n",
    "tolerance = 1.0e-6\n",
    "RI = romberg_integration(func,1,-2,tolerance)\n",
    "print(RI,(RI-Answer)/Answer, tolerance)\n"
   ]
  },
  {
   "cell_type": "code",
   "execution_count": null,
   "metadata": {},
   "outputs": [],
   "source": []
  }
 ],
 "metadata": {
  "kernelspec": {
   "display_name": "Python 3",
   "language": "python",
   "name": "python3"
  },
  "language_info": {
   "codemirror_mode": {
    "name": "ipython",
    "version": 3
   },
   "file_extension": ".py",
   "mimetype": "text/x-python",
   "name": "python",
   "nbconvert_exporter": "python",
   "pygments_lexer": "ipython3",
   "version": "3.8.5"
  }
 },
 "nbformat": 4,
 "nbformat_minor": 4
}
